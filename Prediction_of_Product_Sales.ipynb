{
  "nbformat": 4,
  "nbformat_minor": 0,
  "metadata": {
    "colab": {
      "provenance": [],
      "authorship_tag": "ABX9TyN2tMT+cXuPK5ZMOCMF1Iil",
      "include_colab_link": true
    },
    "kernelspec": {
      "name": "python3",
      "display_name": "Python 3"
    },
    "language_info": {
      "name": "python"
    }
  },
  "cells": [
    {
      "cell_type": "markdown",
      "metadata": {
        "id": "view-in-github",
        "colab_type": "text"
      },
      "source": [
        "<a href=\"https://colab.research.google.com/github/mshurafa/Prediction-of-Product-Sales/blob/main/Prediction_of_Product_Sales.ipynb\" target=\"_parent\"><img src=\"https://colab.research.google.com/assets/colab-badge.svg\" alt=\"Open In Colab\"/></a>"
      ]
    },
    {
      "cell_type": "code",
      "source": [],
      "metadata": {
        "id": "boz5sQQYvkJg"
      },
      "execution_count": null,
      "outputs": []
    },
    {
      "cell_type": "markdown",
      "source": [
        "# Mohammed Shurafa\n"
      ],
      "metadata": {
        "id": "W38IGi3YwBUv"
      }
    },
    {
      "cell_type": "markdown",
      "source": [
        "# Project Title: (Prediction of Product Sales).\n",
        "- Author: Include your name in a markdown cell immediately below your header.\n"
      ],
      "metadata": {
        "id": "gAB9AZmivp5N"
      }
    },
    {
      "cell_type": "markdown",
      "source": [
        "## \"Project Overview\"\n"
      ],
      "metadata": {
        "id": "yJ-tTHY5wG0S"
      }
    },
    {
      "cell_type": "code",
      "source": [],
      "metadata": {
        "id": "n27PtfMTwGG0"
      },
      "execution_count": null,
      "outputs": []
    },
    {
      "cell_type": "markdown",
      "source": [
        "## \"Load and Inspect Data\"\n"
      ],
      "metadata": {
        "id": "-Gce_wHvwJJ0"
      }
    },
    {
      "cell_type": "code",
      "source": [],
      "metadata": {
        "id": "DRwOzkARwKDt"
      },
      "execution_count": null,
      "outputs": []
    },
    {
      "cell_type": "markdown",
      "source": [
        "## \"Clean Data\"\n"
      ],
      "metadata": {
        "id": "j5NSMb4gwM_7"
      }
    },
    {
      "cell_type": "code",
      "source": [],
      "metadata": {
        "id": "--z8G-gKwNIk"
      },
      "execution_count": null,
      "outputs": []
    },
    {
      "cell_type": "markdown",
      "source": [
        "## \"Exploratory Data Analysis\"\n"
      ],
      "metadata": {
        "id": "G9CVIFxywNTn"
      }
    },
    {
      "cell_type": "code",
      "source": [],
      "metadata": {
        "id": "V8g4nxddwNaZ"
      },
      "execution_count": null,
      "outputs": []
    },
    {
      "cell_type": "markdown",
      "source": [
        "## \"Feature Inspection\"\n"
      ],
      "metadata": {
        "id": "S6DHDn4iwTQ7"
      }
    },
    {
      "cell_type": "code",
      "source": [],
      "metadata": {
        "id": "KQSttzZVwTZY"
      },
      "execution_count": null,
      "outputs": []
    }
  ]
}